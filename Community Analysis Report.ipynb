{
 "cells": [
  {
   "cell_type": "markdown",
   "metadata": {},
   "source": [
    "# Community Analysis Report - MOM6 Ocean Model\n",
    "## Matt Watwood"
   ]
  },
  {
   "cell_type": "markdown",
   "metadata": {},
   "source": [
    "## Overview\n",
    "\n",
    "The Modular Ocean Model 6 (MOM6) an open source geophysical fluids dynamics model used to simulate the Earth's ocean system. This collaborative package is the one of foundational components for numerous global coupled climate models at varying scales. MOM6 is the most recent iteration from the Geophysical Fluid Dynamics Lab (GFDL) and was begun in December 2012 with the goal of improving algorithmic performance and modern software engineering practices. The core development for the MOM6 project is done through two main GitHub repositories at [MOM6](https://github.com/NOAA-GFDL/MOM6) and [MOM6-Examples](https://github.com/NOAA-GFDL/MOM6-examples). Both repositories are open and allow contributions through a fork and pull request model as extensively documented [here](https://github.com/NOAA-GFDL/MOM6-examples/wiki) further with [general repository guidelines](https://github.com/NOAA-GFDL/MOM6-examples/wiki/MOM6-repository-policies). At nearly 7 years old, and build upon modelling ideas dating back for nigh on 50 years, this code base is very mature, and its support from a major institution makes the contributor list rather small for an open source project at 41.\n",
    "\n",
    "The separation of the MOM6 and MOM6 Examples codes allow the direct distinction of developers working to improve the computational performance, architectural portability, numerical algorithms, etc. of the model from the developers working with the model on scientific applications. These are closely aligned projects with substantial crossover and thus many of the developers are the same, but it allows people outside of the core developers to work more efficiently with MOM6. \n",
    "\n",
    "A quick note on global coupled climate models, the separation shown here in MOM6 vs MOM6 examples highlights the same form of modularity that goes into global coupled climate models where each separate component can be developed by domain experts and then coupled together. This modularity lets users be different than software developers and also gives a good form of communication between the two through the culture of extensive documentation and issue tracking that GitHub provides."
   ]
  },
  {
   "cell_type": "markdown",
   "metadata": {},
   "source": [
    "## Performance and Capabilities\n",
    "\n",
    "The priority of this project is to provide optimal performance on a full global ocean model. Specifically MOM6 is designed to provide better performance and accuracy with the Sea Ice Simulation (SIS) and in a larger sense the coupling of multiple components in a global coupled climate model. This means the performance requirements are very high as the models being run will be on the peta and exa scale (eventually) for the largest simulations. The GFDL has also maintained a mission of well documented open source software over the past 30+ years which leads to many requirements of \"performance\" for documentation. The wiki pages associated with the main GFDL software are extensive and show the priority that this project has put on creating excellent documentation along with its software."
   ]
  },
  {
   "cell_type": "markdown",
   "metadata": {},
   "source": [
    "## Project Resources and Structure\n",
    "\n",
    "MOM6 is primarily fundend and developed by the Department of Commerce (DOC) and the National Oceanographic and Atmospheric Administration (NOAA) at the Geophysical Fluid Dynamics Lab (GFDL) in Princeton, New Jersey. The MOM project for ocean modeling began around 1991 with MOM1 and this latest iteration of MOM6 starting around 2013 with the goal of modernizing the MOM5 as a new and modern ocean model. The [A Historical Introduction to MOM](https://www.gfdl.noaa.gov/wp-content/uploads/2019/04/mom_history_2017.09.19.pdf) document outlines how this project has grown over the years and even claims that GFDL released the first open source ocean model to include a significant effort of documentation. \n",
    "\n",
    "The MOM6 website lists major contributions to its development to NOAA/GFDL, NCEP, NCAR, Rutgers, FSU, and ANU. As three of these are federally funded their budgets are publically available. I will link to only [GFDL](https://www.gfdl.noaa.gov/wp-content/uploads/2019/10/2019_GFDL_External_Review_Budget.pdf) and [NCAR](https://www.nsf.gov/about/budget/fy2020/pdf/40r_fy2020.pdf) as those are the two most relevant to this particular project and analysis. Highlights include GFDL with  approx. $5.1 million in funding to the High-Resolution Modeling research area and 95 million to NCAR as an entire operation.\n",
    "\n",
    "The development at NCAR is specific to working MOM6 as the ocean model in the next Community Earth System Model (CESM). There are two full time developers working at NCAR on this specific project along with collaborations outside of the institution. [MOM6 was chosen out of a group of ocean models](http://www.cesm.ucar.edu/working_groups/Ocean/files/20160505-RFI/recommendations.pdf) in particular for its open nature and design for integration into larger coupled models."
   ]
  },
  {
   "cell_type": "markdown",
   "metadata": {},
   "source": [
    "## Metrics of Success\n",
    "\n",
    "As noted in the overview, the development of this project is inherently linked to its ease of use as an open source project. Looking from the outside the measure of success for the GFDL developers is integration into large scale coupled climate models both in house at GFDL and external. This leads to a primary metric to develop an accurate, reliable, and reasonable operation time approximation to our earth's ocean system for use in larger scientific work. "
   ]
  },
  {
   "cell_type": "markdown",
   "metadata": {},
   "source": [
    "## Achievements\n",
    "\n"
   ]
  },
  {
   "cell_type": "markdown",
   "metadata": {},
   "source": [
    "The most recent publication from the High-resolution Modeling webpage relates to [deep water exchange and mixing in boundary currents](https://www.pnas.org/content/116/27/13233). Along with this the integration into CESM 3 is looking to be a 5-10 year development process and will include primary integration with MOM6. "
   ]
  },
  {
   "cell_type": "code",
   "execution_count": null,
   "metadata": {},
   "outputs": [],
   "source": []
  }
 ],
 "metadata": {
  "kernelspec": {
   "display_name": "Python 3",
   "language": "python",
   "name": "python3"
  },
  "language_info": {
   "codemirror_mode": {
    "name": "ipython",
    "version": 3
   },
   "file_extension": ".py",
   "mimetype": "text/x-python",
   "name": "python",
   "nbconvert_exporter": "python",
   "pygments_lexer": "ipython3",
   "version": "3.6.7"
  }
 },
 "nbformat": 4,
 "nbformat_minor": 2
}
